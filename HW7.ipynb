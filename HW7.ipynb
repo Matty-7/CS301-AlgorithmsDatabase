{
 "cells": [
  {
   "cell_type": "markdown",
   "metadata": {},
   "source": [
    "# HW7"
   ]
  },
  {
   "cell_type": "markdown",
   "metadata": {},
   "source": [
    "### Jingheng Huan\n",
    "jh730"
   ]
  },
  {
   "cell_type": "markdown",
   "metadata": {},
   "source": [
    "Each node in Hash-Table is similar to that in linked list.\n",
    "\n",
    "The constructor has 2 arguments, key and value, and the pointer to the next and previous record.\n",
    "\n",
    "Complete the code below for the class Record (akin to node) [3 points]"
   ]
  },
  {
   "cell_type": "code",
   "execution_count": 25,
   "metadata": {},
   "outputs": [],
   "source": [
    "class Record:\n",
    "    def __init__(self, key, value):\n",
    "        # store the key and value into the class.\n",
    "        # considering the pointer at the same time.\n",
    "        self.key = key\n",
    "        self.value = value\n",
    "\n",
    "    def __str__(self):\n",
    "        return '%s:%s'% (self.key, self.value)"
   ]
  },
  {
   "cell_type": "markdown",
   "metadata": {},
   "source": [
    "Next for Hash-Table class. You need to initialize several variables and a function for\n",
    "the class HashTable (as given below). [3 points]\n",
    "\n",
    "a) A: the array of Head of Hash-Table’s Linked-List.\n",
    "\n",
    "b) n: the size of your Hash-Table.\n",
    "\n",
    "c) Population: the number of entries in Hash-Table\n",
    "\n",
    "d) h: the hash value of the record (node)"
   ]
  },
  {
   "cell_type": "code",
   "execution_count": 26,
   "metadata": {},
   "outputs": [],
   "source": [
    "def Hash_Value(S):\n",
    "    # Transform a String S into an integer.\n",
    "    hash_value = 0\n",
    "    for char in S:\n",
    "        hash_value += ord(char)\n",
    "    return hash_value"
   ]
  },
  {
   "cell_type": "markdown",
   "metadata": {},
   "source": [
    "Complete the functions for insertion and deletion operation. [16 points]\n",
    "\n",
    "Implement a search operation. \n",
    "\n",
    "Given a key, you need to search the record that is associated with the key. \n",
    "\n",
    "If the record is found, return the record and None if not. [8 points]"
   ]
  },
  {
   "cell_type": "code",
   "execution_count": 27,
   "metadata": {},
   "outputs": [],
   "source": [
    "class HashTable:\n",
    "    def __init__(self, n):\n",
    "        # n has been given. Deal with the rest part (A, population)\n",
    "        self.size = n\n",
    "        self.table = [[] for _ in range(n)]\n",
    "\n",
    "    def CHAINED_HASH_INSERT(self, x):\n",
    "        # Insert x (which is a ‘Record’) into Hash Table.\n",
    "        # if the key of x has already exist, then delete the origin one.\n",
    "\n",
    "        hash_value = Hash_Value(x.key) % self.size\n",
    "\n",
    "        for i, record in enumerate(self.table[hash_value]):\n",
    "            if record.key == x.key:\n",
    "                self.table[hash_value][i] = x\n",
    "                return\n",
    "            \n",
    "        self.table[hash_value].append(x)\n",
    "    \n",
    "    def CHAINED_HASH_DELETE(self, x):\n",
    "        # Delete x (which is a ‘Record’) in Hash Table.\n",
    "        # x may not exist in Hash-Table.\n",
    "        hash_value = Hash_Value(x.key) % self.size\n",
    "        for i, record in enumerate(self.table[hash_value]):\n",
    "            if record.key == x.key:\n",
    "                del self.table[hash_value][i]\n",
    "                return\n",
    "            \n",
    "    def CHAINED_HASH_SEARCH(self, key):\n",
    "        # Find which string’s Hash-Value is key.\n",
    "        # return the node, if do not exist, return None.\n",
    "        hash_value = Hash_Value(key) % self.size\n",
    "        for record in self.table[hash_value]:\n",
    "            if record.key == key:\n",
    "                return record\n",
    "        return None"
   ]
  },
  {
   "cell_type": "markdown",
   "metadata": {},
   "source": [
    "Test the record and the HashTable class you’ve developed. [10 points]\n",
    "\n",
    "Note that:\n",
    "\n",
    "• You need to create and insert at least 10 different records\n",
    "\n",
    "• Submit your codes and the inputs (records) and outputs after each action above"
   ]
  },
  {
   "cell_type": "code",
   "execution_count": 28,
   "metadata": {},
   "outputs": [
    {
     "name": "stdout",
     "output_type": "stream",
     "text": [
      "Record number 10 inserted.\n",
      "Current records: {10: '20'}\n"
     ]
    },
    {
     "ename": "IndexError",
     "evalue": "list index out of range",
     "output_type": "error",
     "traceback": [
      "\u001b[0;31m---------------------------------------------------------------------------\u001b[0m",
      "\u001b[0;31mIndexError\u001b[0m                                Traceback (most recent call last)",
      "Cell \u001b[0;32mIn[28], line 51\u001b[0m\n\u001b[1;32m     48\u001b[0m             \u001b[38;5;28mprint\u001b[39m(\u001b[38;5;124m\"\u001b[39m\u001b[38;5;124mInvalid command.\u001b[39m\u001b[38;5;124m\"\u001b[39m)\n\u001b[1;32m     50\u001b[0m \u001b[38;5;66;03m# Run the test\u001b[39;00m\n\u001b[0;32m---> 51\u001b[0m \u001b[43mTest\u001b[49m\u001b[43m(\u001b[49m\u001b[43m)\u001b[49m\n",
      "Cell \u001b[0;32mIn[28], line 10\u001b[0m, in \u001b[0;36mTest\u001b[0;34m()\u001b[0m\n\u001b[1;32m      7\u001b[0m user_input \u001b[38;5;241m=\u001b[39m \u001b[38;5;28minput\u001b[39m(\u001b[38;5;124m\"\u001b[39m\u001b[38;5;124mPlease enter a command and a record number (e.g., \u001b[39m\u001b[38;5;124m'\u001b[39m\u001b[38;5;124mi 10\u001b[39m\u001b[38;5;124m'\u001b[39m\u001b[38;5;124m), or \u001b[39m\u001b[38;5;124m'\u001b[39m\u001b[38;5;124mq\u001b[39m\u001b[38;5;124m'\u001b[39m\u001b[38;5;124m to quit: \u001b[39m\u001b[38;5;124m\"\u001b[39m)\u001b[38;5;241m.\u001b[39msplit()\n\u001b[1;32m      9\u001b[0m \u001b[38;5;66;03m# If the user wants to quit, break the loop\u001b[39;00m\n\u001b[0;32m---> 10\u001b[0m \u001b[38;5;28;01mif\u001b[39;00m \u001b[43muser_input\u001b[49m\u001b[43m[\u001b[49m\u001b[38;5;241;43m0\u001b[39;49m\u001b[43m]\u001b[49m\u001b[38;5;241m.\u001b[39mlower() \u001b[38;5;241m==\u001b[39m \u001b[38;5;124m\"\u001b[39m\u001b[38;5;124mq\u001b[39m\u001b[38;5;124m\"\u001b[39m:\n\u001b[1;32m     11\u001b[0m     \u001b[38;5;28;01mbreak\u001b[39;00m\n\u001b[1;32m     13\u001b[0m \u001b[38;5;66;03m# Extract the command and the record number from the user input\u001b[39;00m\n",
      "\u001b[0;31mIndexError\u001b[0m: list index out of range"
     ]
    }
   ],
   "source": [
    "def Test():\n",
    "    # Initialize an empty dictionary to simulate a database table\n",
    "    records = {}\n",
    "\n",
    "    while True:\n",
    "        # Prompt the user for a command and a record number\n",
    "        user_input = input(\"Please enter a command and a record number (e.g., 'i 10'), or 'q' to quit: \").split()\n",
    "\n",
    "        # If the user wants to quit, break the loop\n",
    "        if user_input[0].lower() == \"q\":\n",
    "            break\n",
    "\n",
    "        # Extract the command and the record number from the user input\n",
    "        command = user_input[0].lower()\n",
    "        record_number = int(user_input[1])\n",
    "\n",
    "        # Perform the requested operation\n",
    "        if command == \"i\":\n",
    "            # If the record number already exists, print an error message\n",
    "            if record_number in records:\n",
    "                print(f\"Record number {record_number} already exists.\")\n",
    "            else:\n",
    "                # Otherwise, insert a new record\n",
    "                record = input(\"Please enter the record data: \")\n",
    "                records[record_number] = record\n",
    "                print(f\"Record number {record_number} inserted.\")\n",
    "                print('Current records:', records)\n",
    "\n",
    "        elif command == \"d\":\n",
    "            # If the record number does not exist, print an error message\n",
    "            if record_number not in records:\n",
    "                print(f\"Record number {record_number} does not exist.\")\n",
    "            else:\n",
    "                # Otherwise, delete the record\n",
    "                del records[record_number]\n",
    "                print(f\"Record number {record_number} deleted.\")\n",
    "                print('Current records:', records)\n",
    "\n",
    "        elif command == \"s\":\n",
    "            # If the record number does not exist, print an error message\n",
    "            if record_number not in records:\n",
    "                print(f\"Record number {record_number} does not exist.\")\n",
    "            else:\n",
    "                # Otherwise, print the record\n",
    "                print(f\"Record number {record_number}: {records[record_number]}\")\n",
    "\n",
    "        else:\n",
    "            print(\"Invalid command.\")\n",
    "\n",
    "# Run the test\n",
    "Test()"
   ]
  }
 ],
 "metadata": {
  "kernelspec": {
   "display_name": "Python 3",
   "language": "python",
   "name": "python3"
  },
  "language_info": {
   "codemirror_mode": {
    "name": "ipython",
    "version": 3
   },
   "file_extension": ".py",
   "mimetype": "text/x-python",
   "name": "python",
   "nbconvert_exporter": "python",
   "pygments_lexer": "ipython3",
   "version": "3.11.9"
  }
 },
 "nbformat": 4,
 "nbformat_minor": 2
}
