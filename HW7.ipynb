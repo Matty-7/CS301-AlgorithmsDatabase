{
 "cells": [
  {
   "cell_type": "markdown",
   "metadata": {},
   "source": [
    "# HW7"
   ]
  },
  {
   "cell_type": "markdown",
   "metadata": {},
   "source": [
    "### Jingheng Huan\n",
    "jh730"
   ]
  },
  {
   "cell_type": "markdown",
   "metadata": {},
   "source": [
    "Q1: Each node in Hash-Table is similar to that in linked list.\n",
    "\n",
    "The constructor has 2 arguments, key and value, and the pointer to the next and previous record.\n",
    "\n",
    "Complete the code below for the class Record (akin to node) [3 points]"
   ]
  },
  {
   "cell_type": "code",
   "execution_count": 3,
   "metadata": {},
   "outputs": [],
   "source": [
    "class Record:\n",
    "    def __init__(self, key, value):\n",
    "        # store the key and value into the class.\n",
    "        # considering the pointer at the same time.\n",
    "        self.key = key\n",
    "        self.value = value\n",
    "\n",
    "    def __str__(self):\n",
    "        return '%s:%s'% (self.key, self.value)"
   ]
  },
  {
   "cell_type": "markdown",
   "metadata": {},
   "source": [
    "Next for Hash-Table class. You need to initialize several variables and a function for\n",
    "the class HashTable (as given below). [3 points]\n",
    "\n",
    "a) A: the array of Head of Hash-Table’s Linked-List.\n",
    "\n",
    "b) n: the size of your Hash-Table.\n",
    "\n",
    "c) Population: the number of entries in Hash-Table\n",
    "\n",
    "d) h: the hash value of the record (node)"
   ]
  },
  {
   "cell_type": "code",
   "execution_count": 4,
   "metadata": {},
   "outputs": [],
   "source": [
    "def Hash_Value(S):\n",
    "    # Transform a String S into an integer.\n",
    "    hash_value = 0\n",
    "    for char in S:\n",
    "        hash_value += ord(char)\n",
    "    return hash_value"
   ]
  },
  {
   "cell_type": "markdown",
   "metadata": {},
   "source": [
    "Q2. Complete the functions for insertion and deletion operation. [16 points]"
   ]
  },
  {
   "cell_type": "code",
   "execution_count": null,
   "metadata": {},
   "outputs": [],
   "source": [
    "class HashTable:\n",
    "    def __init__(self, n):\n",
    "        # n has been given. Deal with the rest part (A, population)\n",
    "        self.size = n\n",
    "        self.table = [[] for _ in range(n)]\n",
    "\n",
    "    def CHAINED_HASH_INSERT(self, x):\n",
    "        # Insert x (which is a ‘Record’) into Hash Table.\n",
    "        # if the key of x has already exist, then delete the origin one.\n",
    "\n",
    "        hash_value = Hash_Value(x.key) % self.size\n",
    "\n",
    "        for i, record in enumerate(self.table[hash_value]):\n",
    "            if record.key == x.key:\n",
    "                self.table[hash_value][i] = x\n",
    "                return\n",
    "            \n",
    "        self.table[hash_value].append(x)\n",
    "    \n",
    "\n",
    "    def CHAINED_HASH_DELETE(self, x):\n",
    "        # Delete x (which is a ‘Record’) in Hash Table.\n",
    "        # x may not exist in Hash-Table.\n",
    "        pass"
   ]
  }
 ],
 "metadata": {
  "kernelspec": {
   "display_name": "Python 3",
   "language": "python",
   "name": "python3"
  },
  "language_info": {
   "codemirror_mode": {
    "name": "ipython",
    "version": 3
   },
   "file_extension": ".py",
   "mimetype": "text/x-python",
   "name": "python",
   "nbconvert_exporter": "python",
   "pygments_lexer": "ipython3",
   "version": "3.11.9"
  }
 },
 "nbformat": 4,
 "nbformat_minor": 2
}
