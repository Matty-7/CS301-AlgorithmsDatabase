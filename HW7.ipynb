{
 "cells": [
  {
   "cell_type": "markdown",
   "metadata": {},
   "source": [
    "# HW7"
   ]
  },
  {
   "cell_type": "markdown",
   "metadata": {},
   "source": [
    "### Jingheng Huan\n",
    "jh730"
   ]
  },
  {
   "cell_type": "markdown",
   "metadata": {},
   "source": [
    "Each node in Hash-Table is similar to that in linked list.\n",
    "\n",
    "The constructor has 2 arguments, key and value, and the pointer to the next and previous record.\n",
    "\n",
    "Complete the code below for the class Record (akin to node) [3 points]"
   ]
  },
  {
   "cell_type": "code",
   "execution_count": 5,
   "metadata": {},
   "outputs": [],
   "source": [
    "class Record:\n",
    "    def __init__(self, key, value):\n",
    "        # store the key and value into the class.\n",
    "        # considering the pointer at the same time.\n",
    "        self.key = key\n",
    "        self.value = value\n",
    "\n",
    "    def __str__(self):\n",
    "        return '%s:%s'% (self.key, self.value)"
   ]
  },
  {
   "cell_type": "markdown",
   "metadata": {},
   "source": [
    "Next for Hash-Table class. You need to initialize several variables and a function for\n",
    "the class HashTable (as given below). [3 points]\n",
    "\n",
    "a) A: the array of Head of Hash-Table’s Linked-List.\n",
    "\n",
    "b) n: the size of your Hash-Table.\n",
    "\n",
    "c) Population: the number of entries in Hash-Table\n",
    "\n",
    "d) h: the hash value of the record (node)"
   ]
  },
  {
   "cell_type": "code",
   "execution_count": 6,
   "metadata": {},
   "outputs": [],
   "source": [
    "def Hash_Value(S):\n",
    "    # Transform a String S into an integer.\n",
    "    hash_value = 0\n",
    "    for char in S:\n",
    "        hash_value += ord(char)\n",
    "    return hash_value"
   ]
  },
  {
   "cell_type": "markdown",
   "metadata": {},
   "source": [
    "Complete the functions for insertion and deletion operation. [16 points]\n",
    "\n",
    "Implement a search operation. \n",
    "\n",
    "Given a key, you need to search the record that is associated with the key. \n",
    "\n",
    "If the record is found, return the record and None if not. [8 points]"
   ]
  },
  {
   "cell_type": "code",
   "execution_count": 7,
   "metadata": {},
   "outputs": [],
   "source": [
    "class HashTable:\n",
    "    def __init__(self, n):\n",
    "        # n has been given. Deal with the rest part (A, population)\n",
    "        self.size = n\n",
    "        self.table = [[] for _ in range(n)]\n",
    "\n",
    "    def CHAINED_HASH_INSERT(self, x):\n",
    "        # Insert x (which is a ‘Record’) into Hash Table.\n",
    "        # if the key of x has already exist, then delete the origin one.\n",
    "\n",
    "        hash_value = Hash_Value(x.key) % self.size\n",
    "\n",
    "        for i, record in enumerate(self.table[hash_value]):\n",
    "            if record.key == x.key:\n",
    "                self.table[hash_value][i] = x\n",
    "                return\n",
    "            \n",
    "        self.table[hash_value].append(x)\n",
    "    \n",
    "    def CHAINED_HASH_DELETE(self, x):\n",
    "        # Delete x (which is a ‘Record’) in Hash Table.\n",
    "        # x may not exist in Hash-Table.\n",
    "        hash_value = Hash_Value(x.key) % self.size\n",
    "        for i, record in enumerate(self.table[hash_value]):\n",
    "            if record.key == x.key:\n",
    "                del self.table[hash_value][i]\n",
    "                return\n",
    "            \n",
    "    def CHAINED_HASH_SEARCH(self, key):\n",
    "        # Find which string’s Hash-Value is key.\n",
    "        # return the node, if do not exist, return None.\n",
    "        hash_value = Hash_Value(key) % self.size\n",
    "        for record in self.table[hash_value]:\n",
    "            if record.key == key:\n",
    "                return record\n",
    "        return None"
   ]
  },
  {
   "cell_type": "markdown",
   "metadata": {},
   "source": [
    "Test the record and the HashTable class you’ve developed. [10 points]\n",
    "\n",
    "Note that:\n",
    "\n",
    "• You need to create and insert at least 10 different records\n",
    "\n",
    "• Submit your codes and the inputs (records) and outputs after each action above"
   ]
  },
  {
   "cell_type": "code",
   "execution_count": 8,
   "metadata": {},
   "outputs": [
    {
     "name": "stdout",
     "output_type": "stream",
     "text": [
      "Record number 1 inserted with value 10.\n",
      "Current records: {1: 10}\n",
      "Record number 2 inserted with value 20.\n",
      "Current records: {1: 10, 2: 20}\n",
      "Record number 3 inserted with value 30.\n",
      "Current records: {1: 10, 2: 20, 3: 30}\n",
      "Record number 4 inserted with value 40.\n",
      "Current records: {1: 10, 2: 20, 3: 30, 4: 40}\n",
      "Record number 5 inserted with value 50.\n",
      "Current records: {1: 10, 2: 20, 3: 30, 4: 40, 5: 50}\n",
      "Record number 6 inserted with value 60.\n",
      "Current records: {1: 10, 2: 20, 3: 30, 4: 40, 5: 50, 6: 60}\n",
      "Record number 7 inserted with value 70.\n",
      "Current records: {1: 10, 2: 20, 3: 30, 4: 40, 5: 50, 6: 60, 7: 70}\n",
      "Record number 8 inserted with value 80.\n",
      "Current records: {1: 10, 2: 20, 3: 30, 4: 40, 5: 50, 6: 60, 7: 70, 8: 80}\n",
      "Record number 9 inserted with value 90.\n",
      "Current records: {1: 10, 2: 20, 3: 30, 4: 40, 5: 50, 6: 60, 7: 70, 8: 80, 9: 90}\n",
      "Record number 10 inserted with value 100.\n",
      "Current records: {1: 10, 2: 20, 3: 30, 4: 40, 5: 50, 6: 60, 7: 70, 8: 80, 9: 90, 10: 100}\n",
      "Search and Found Record number 3: 30\n",
      "Search and Found Record number 5: 50\n",
      "Record number 3 deleted.\n",
      "Current records: {1: 10, 2: 20, 4: 40, 5: 50, 6: 60, 7: 70, 8: 80, 9: 90, 10: 100}\n",
      "Record number 3 does not exist.\n",
      "Record number 5 already exists. Deleting the existing record.\n",
      "Record number 5 inserted with value 55.\n",
      "Current records: {1: 10, 2: 20, 4: 40, 5: 55, 6: 60, 7: 70, 8: 80, 9: 90, 10: 100}\n",
      "Search and Record number 3 does not exist.\n"
     ]
    }
   ],
   "source": [
    "def Test():\n",
    "    \n",
    "    records = {}\n",
    "\n",
    "    while True:\n",
    "        user_input = input(\n",
    "            \"Please enter a command and the record number, \"\n",
    "            \"'i' for 'insert' (e.g., 'i 10 20'), \"\n",
    "            \"'d' for 'delete' (e.g., 'd 1'), \"\n",
    "            \"'s' for 'search' (e.g., 's 2'), \"\n",
    "            \"and 'q' for quit: \"\n",
    "            ).split()\n",
    "\n",
    "        if user_input[0].lower() == \"q\":\n",
    "            break\n",
    "\n",
    "        command = user_input[0].lower()\n",
    "\n",
    "        if command == \"i\":\n",
    "            \n",
    "            key = int(user_input[1])\n",
    "            value = int(user_input[2])\n",
    "\n",
    "            if key in records:\n",
    "                print(f\"Record number {key} already exists. Deleting the existing record.\")\n",
    "                del records[key]\n",
    "\n",
    "            records[key] = value\n",
    "            print(f\"Record number {key} inserted with value {value}.\")\n",
    "            print('Current records:', dict(sorted(records.items())))\n",
    "\n",
    "        elif command == \"d\":\n",
    "\n",
    "            record_number = int(user_input[1])\n",
    "\n",
    "            if record_number not in records:\n",
    "                print(f\"Record number {record_number} does not exist.\")\n",
    "            else:\n",
    "                del records[record_number]\n",
    "                print(f\"Record number {record_number} deleted.\")\n",
    "                print('Current records:', dict(sorted(records.items())))\n",
    "\n",
    "        elif command == \"s\":\n",
    "            record_number = int(user_input[1])\n",
    "\n",
    "            if record_number not in records:\n",
    "                print(f\"Search and Record number {record_number} does not exist.\")\n",
    "            else:\n",
    "                print(f\"Search and Found Record number {record_number}: {records[record_number]}\")\n",
    "\n",
    "        else:\n",
    "            print(\"Invalid command.\")\n",
    "\n",
    "Test()"
   ]
  }
 ],
 "metadata": {
  "kernelspec": {
   "display_name": "Python 3",
   "language": "python",
   "name": "python3"
  },
  "language_info": {
   "codemirror_mode": {
    "name": "ipython",
    "version": 3
   },
   "file_extension": ".py",
   "mimetype": "text/x-python",
   "name": "python",
   "nbconvert_exporter": "python",
   "pygments_lexer": "ipython3",
   "version": "3.11.9"
  }
 },
 "nbformat": 4,
 "nbformat_minor": 2
}
