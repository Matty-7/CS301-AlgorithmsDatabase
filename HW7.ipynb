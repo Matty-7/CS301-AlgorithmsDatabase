{
 "cells": [
  {
   "cell_type": "markdown",
   "metadata": {},
   "source": [
    "# HW7"
   ]
  },
  {
   "cell_type": "markdown",
   "metadata": {},
   "source": [
    "### Jingheng Huan\n",
    "jh730"
   ]
  },
  {
   "cell_type": "markdown",
   "metadata": {},
   "source": [
    "Each node in Hash-Table is similar to that in linked list.\n",
    "\n",
    "The constructor has 2 arguments, key and value, and the pointer to the next and previous record.\n",
    "\n",
    "Complete the code below for the class Record (akin to node) [3 points]"
   ]
  },
  {
   "cell_type": "code",
   "execution_count": 5,
   "metadata": {},
   "outputs": [],
   "source": [
    "class Record:\n",
    "    def __init__(self, key, value):\n",
    "        # store the key and value into the class.\n",
    "        # considering the pointer at the same time.\n",
    "        self.key = key\n",
    "        self.value = value\n",
    "\n",
    "    def __str__(self):\n",
    "        return '%s:%s'% (self.key, self.value)"
   ]
  },
  {
   "cell_type": "markdown",
   "metadata": {},
   "source": [
    "Next for Hash-Table class. You need to initialize several variables and a function for\n",
    "the class HashTable (as given below). [3 points]\n",
    "\n",
    "a) A: the array of Head of Hash-Table’s Linked-List.\n",
    "\n",
    "b) n: the size of your Hash-Table.\n",
    "\n",
    "c) Population: the number of entries in Hash-Table\n",
    "\n",
    "d) h: the hash value of the record (node)"
   ]
  },
  {
   "cell_type": "code",
   "execution_count": 6,
   "metadata": {},
   "outputs": [],
   "source": [
    "def Hash_Value(S):\n",
    "    # Transform a String S into an integer.\n",
    "    hash_value = 0\n",
    "    for char in S:\n",
    "        hash_value += ord(char)\n",
    "    return hash_value"
   ]
  },
  {
   "cell_type": "markdown",
   "metadata": {},
   "source": [
    "Complete the functions for insertion and deletion operation. [16 points]\n",
    "\n",
    "Implement a search operation. \n",
    "\n",
    "Given a key, you need to search the record that is associated with the key. \n",
    "\n",
    "If the record is found, return the record and None if not. [8 points]"
   ]
  },
  {
   "cell_type": "code",
   "execution_count": 7,
   "metadata": {},
   "outputs": [],
   "source": [
    "class HashTable:\n",
    "    def __init__(self, n):\n",
    "        # n has been given. Deal with the rest part (A, population)\n",
    "        self.size = n\n",
    "        self.table = [[] for _ in range(n)]\n",
    "\n",
    "    def CHAINED_HASH_INSERT(self, x):\n",
    "        # Insert x (which is a ‘Record’) into Hash Table.\n",
    "        # if the key of x has already exist, then delete the origin one.\n",
    "\n",
    "        hash_value = Hash_Value(x.key) % self.size\n",
    "\n",
    "        for i, record in enumerate(self.table[hash_value]):\n",
    "            if record.key == x.key:\n",
    "                self.table[hash_value][i] = x\n",
    "                return\n",
    "            \n",
    "        self.table[hash_value].append(x)\n",
    "    \n",
    "    def CHAINED_HASH_DELETE(self, x):\n",
    "        # Delete x (which is a ‘Record’) in Hash Table.\n",
    "        # x may not exist in Hash-Table.\n",
    "        hash_value = Hash_Value(x.key) % self.size\n",
    "        for i, record in enumerate(self.table[hash_value]):\n",
    "            if record.key == x.key:\n",
    "                del self.table[hash_value][i]\n",
    "                return\n",
    "            \n",
    "    def CHAINED_HASH_SEARCH(self, key):\n",
    "        # Find which string’s Hash-Value is key.\n",
    "        # return the node, if do not exist, return None.\n",
    "        hash_value = Hash_Value(key) % self.size\n",
    "        for record in self.table[hash_value]:\n",
    "            if record.key == key:\n",
    "                return record\n",
    "        return None"
   ]
  },
  {
   "cell_type": "markdown",
   "metadata": {},
   "source": [
    "Test the record and the HashTable class you’ve developed. [10 points]\n",
    "\n",
    "Note that:\n",
    "\n",
    "• You need to create and insert at least 10 different records\n",
    "\n",
    "• Submit your codes and the inputs (records) and outputs after each action above"
   ]
  },
  {
   "cell_type": "code",
   "execution_count": 8,
   "metadata": {},
   "outputs": [
    {
     "name": "stdout",
     "output_type": "stream",
     "text": [
      "Inserting record: key0:value0\n",
      "Inserting record: key1:value1\n",
      "Inserting record: key2:value2\n",
      "Inserting record: key3:value3\n",
      "Inserting record: key4:value4\n",
      "Inserting record: key5:value5\n",
      "Inserting record: key6:value6\n",
      "Inserting record: key7:value7\n",
      "Inserting record: key8:value8\n",
      "Inserting record: key9:value9\n",
      "Hash table after insertion:\n",
      "Bucket 0: ['key3:value3']\n",
      "Bucket 1: ['key4:value4']\n",
      "Bucket 2: ['key5:value5']\n",
      "Bucket 3: ['key6:value6']\n",
      "Bucket 4: ['key7:value7']\n",
      "Bucket 5: ['key8:value8']\n",
      "Bucket 6: ['key9:value9']\n",
      "Bucket 7: []\n",
      "Bucket 8: []\n",
      "Bucket 9: []\n",
      "Bucket 10: []\n",
      "Bucket 11: []\n",
      "Bucket 12: []\n",
      "Bucket 13: []\n",
      "Bucket 14: []\n",
      "Bucket 15: []\n",
      "Bucket 16: []\n",
      "Bucket 17: ['key0:value0']\n",
      "Bucket 18: ['key1:value1']\n",
      "Bucket 19: ['key2:value2']\n",
      "Searching for record with key key2\n",
      "Found record: key2:value2\n",
      "Deleting record with key key2\n",
      "Searching for record with key key2 after deletion\n",
      "No record found with key key2, deletion was successful\n"
     ]
    }
   ],
   "source": [
    "def Test():\n",
    "    # first, insert records into the table and print out the records\n",
    "    # then, try searching a record and delete it if found, and check again if it’s successful\n",
    "    \n",
    "    hash_table = HashTable(20)\n",
    "    records = [Record('key{}'.format(i), 'value{}'.format(i)) for i in range(10)]\n",
    "\n",
    "    # Insert the records into the hash table and print them out\n",
    "    for record in records:\n",
    "        print('Inserting record: {}'.format(str(record)))\n",
    "        hash_table.CHAINED_HASH_INSERT(record)\n",
    "\n",
    "    # Print the hash table\n",
    "    print('Hash table after insertion:')\n",
    "    for i, bucket in enumerate(hash_table.table):\n",
    "        print('Bucket {}: {}'.format(i, [str(record) for record in bucket]))\n",
    "\n",
    "    # Search for a record\n",
    "    key_to_search = 'key2'\n",
    "    print('Searching for record with key {}'.format(key_to_search))\n",
    "    record = hash_table.CHAINED_HASH_SEARCH(key_to_search)\n",
    "    if record:\n",
    "        print('Found record: {}'.format(str(record)))\n",
    "    else:\n",
    "        print('No record found with key {}'.format(key_to_search))\n",
    "\n",
    "    # Delete the record\n",
    "    print('Deleting record with key {}'.format(key_to_search))\n",
    "    hash_table.CHAINED_HASH_DELETE(record)\n",
    "\n",
    "    # Check again if it’s successful\n",
    "    print('Searching for record with key {} after deletion'.format(key_to_search))\n",
    "    record = hash_table.CHAINED_HASH_SEARCH(key_to_search)\n",
    "    if record:\n",
    "        print('Record still exists: {}'.format(str(record)))\n",
    "    else:\n",
    "        print('No record found with key {}, deletion was successful'.format(key_to_search))\n",
    "\n",
    "# Run the test\n",
    "Test()"
   ]
  }
 ],
 "metadata": {
  "kernelspec": {
   "display_name": "Python 3",
   "language": "python",
   "name": "python3"
  },
  "language_info": {
   "codemirror_mode": {
    "name": "ipython",
    "version": 3
   },
   "file_extension": ".py",
   "mimetype": "text/x-python",
   "name": "python",
   "nbconvert_exporter": "python",
   "pygments_lexer": "ipython3",
   "version": "3.11.9"
  }
 },
 "nbformat": 4,
 "nbformat_minor": 2
}
