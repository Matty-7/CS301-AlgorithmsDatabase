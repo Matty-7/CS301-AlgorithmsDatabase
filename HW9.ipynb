{
 "cells": [
  {
   "cell_type": "markdown",
   "metadata": {},
   "source": [
    "# HW9"
   ]
  },
  {
   "cell_type": "markdown",
   "metadata": {},
   "source": [
    "### Jingheng Huan\n",
    "jh730"
   ]
  },
  {
   "cell_type": "markdown",
   "metadata": {},
   "source": [
    "Q1: Consider having a last-minute exam in a classroom where all the students sit\n",
    "on the very front line, next to each other. Since none of the students studied\n",
    "the course, all cheats to pass the exam. Some of the students cheat better\n",
    "than others, denoted by their cheating index: Ci of student i. The course\n",
    "teacher needs to identify the students who cheat one by one. Whenever s/he\n",
    "catches one student while cheating, s/he takes the student outside of the\n",
    "classroom and gets the success score of (Ci · Ci,left · Ci,right). Ci,left and Ci,right are\n",
    "the cheating indexes of the students sitting right next to student i, on the left\n",
    "and right, respectively. If there are no students on the left, Ci,left is ignored, i.e.\n",
    "the success score is (Ci · Ci,right). The same case is valid for Ci,right, i.e. the\n",
    "success score is (Ci · Ci,left ). If there is only one student left, then the success\n",
    "score to be collected becomes (Ci). Whenever a student gets caught, all\n",
    "students on the student i’s left shift toward right by one seat so that no\n",
    "intermediate seat is empty. Assuming that all the students are eventually\n",
    "caught."
   ]
  },
  {
   "cell_type": "markdown",
   "metadata": {},
   "source": [
    "a. Develop a dynamic programming-based algorithm, in the form of\n",
    "pseudocode, to maximize the total success score of the teacher. [15\n",
    "points]"
   ]
  },
  {
   "cell_type": "markdown",
   "metadata": {},
   "source": [
    "b. Analyze the performance of the algorithm with asymptotic analysis. [5\n",
    "points]"
   ]
  },
  {
   "cell_type": "code",
   "execution_count": 93,
   "metadata": {},
   "outputs": [],
   "source": [
    "# Q1 (a)\n",
    "\n",
    "# Function MaximizeScore(C)\n",
    "    # C is the list of cheating indices for the students\n",
    "    # Get the number of students n\n",
    "    # * n = length(C)\n",
    "\n",
    "    # Initialize a 2D DP table with size n x n\n",
    "    # * Initialize DP with dimensions [n][n] to all 0\n",
    "\n",
    "    # * For length from 0 to n - 1\n",
    "    # length represents the size of the subsequence of students we are considering\n",
    "    # i and j are the starting and ending indices of the subsequence in the list of C\n",
    "        # * For i from 0 to n - length - 1\n",
    "            # * j = i + length\n",
    "\n",
    "            # * If i + 1 <= j Then\n",
    "                # * left_score = C[i] * C[i+1]\n",
    "            # * Else\n",
    "                # * left_score = C[i]\n",
    "            # * End If\n",
    "\n",
    "            # * If j - 1 >= i Then\n",
    "                # * right_score = C[j] * C[j-1]\n",
    "            # * Else\n",
    "                # * right_score = C[j]\n",
    "            # * End If\n",
    "\n",
    "            # * If i + 1 <= j Then\n",
    "                # * score_if_left_chosen = left_score + DP[i+1][j]\n",
    "            # * Else\n",
    "                # * score_if_left_chosen = left_score\n",
    "            # * End If\n",
    "\n",
    "            # * If j - 1 >= i Then\n",
    "                # * score_if_right_chosen = right_score + DP[i][j-1]\n",
    "            # * Else\n",
    "                # * score_if_right_chosen = right_score\n",
    "            # * End If\n",
    "\n",
    "            # * DP[i][j] = max(score_if_left_chosen, score_if_right_chosen)\n",
    "\n",
    "        # * Next i\n",
    "    # * Next length\n",
    "\n",
    "    # * Return DP[0][n-1]\n",
    "# * End Function"
   ]
  },
  {
   "cell_type": "markdown",
   "metadata": {},
   "source": [
    "## (b) Asymptotic Analysis\n",
    "\n",
    "### Time Complexity\n",
    "- The algorithm initializes a dynamic programming table `DP` using two loops to consider all possible subsequences. The outer loop iterates over the lengths of subsequences, ranging from 1 to n, while the inner loop iterates over all possible starting points for each length.\n",
    "- For each subsequence, the algorithm computes two possible scores (for catching either the left or the right student) and then selects the maximum. This step is done in constant time.\n",
    "- Therefore, the total time complexity is the product of the number of iterations over subsequence lengths (n) and the computations performed for each length (n), resulting in a total time complexity of `O(n^2)`.\n",
    "\n",
    "### Space Complexity:\n",
    "- The algorithm requires a 2D array `DP` of size `n x n`, where n is the number of students.\n",
    "- Since each element of the array stores a single numerical value, the space complexity of this 2D array is `O(n^2)`.\n",
    "\n",
    "From this asymptotic analysis, we can infer that the required time and space grow quadratically with the number of students. Nonetheless, for this dynamic programming problems, a quadratic time and space complexity is often acceptable, especially when n is not large."
   ]
  },
  {
   "cell_type": "markdown",
   "metadata": {},
   "source": [
    "Q2: Consider a sorted list of numbers such as A = {3.8, 4.3, 4.4, 8, 11.1, 11.4, 12.5}.\n",
    "Develop an asymptotically linear, greedy algorithm, in the form of\n",
    "pseudocode, that can identify the minimum number of ranges with a fixed\n",
    "length (distance), covering all the numbers in A. Referring to the given\n",
    "example list, with the fixed range length 2, the minimum number of intervals\n",
    "could be 3. The corresponding potential solution comes with the following\n",
    "ranges: [3.8, 5.8], [6.3, 8.3] and [11, 13]. The first range, [3.8, 5.8], with the\n",
    "length of (5.8 − 3.8) = 2, covers {3.8, 4.3, 4.4}; the second range, [6.3, 8.3], with\n",
    "the length of (8.3−6.3) = 2, contains {8}; the last range, [11, 13], with the\n",
    "length of (13 − 11) = 2, has the remaining values, i.e. {11.1, 11.4, 12.5}. [10\n",
    "points]"
   ]
  },
  {
   "cell_type": "code",
   "execution_count": 94,
   "metadata": {},
   "outputs": [],
   "source": [
    "# Q2\n",
    "# * Function MinRanges(A, d)\n",
    "# A is the sorted list of numbers\n",
    "# d is the fixed range length\n",
    "\n",
    "    # * Initialize ranges as an empty list\n",
    "    # * Initialize i as 0\n",
    "\n",
    "    # * While i < length(A)\n",
    "        # * Initialize start as A[i]\n",
    "        # * Initialize end as A[i] + d\n",
    "\n",
    "            # * While i < length(A) and A[i] <= end\n",
    "                # * Increment i\n",
    "\n",
    "            # * Add [start, end] to ranges\n",
    "\n",
    "    # * Return ranges\n",
    "# * End Function\n"
   ]
  },
  {
   "cell_type": "markdown",
   "metadata": {},
   "source": [
    "Q3: The activity selection problem was discussed during lecture, but only was one\n",
    "room considered (to hold all activities). Now, consider the same problem but\n",
    "with two rooms, r1 and r2. The goal is to identify two independent / disjoint\n",
    "sets of activities, A1 and A2. All the activities in A1 are to be carried out in r1\n",
    "and they are mutually compatible. The same case is valid for A2 in r2. Develop\n",
    "a greedy algorithm, in the form of pseudocode, to address this 2-room\n",
    "activity selection problem, for maximizing |A1| + |A2|, and discuss the\n",
    "algorithm’s optimality. [10 points]"
   ]
  },
  {
   "cell_type": "code",
   "execution_count": 95,
   "metadata": {},
   "outputs": [],
   "source": [
    "# Q3\n",
    "# * Function ActivitySelection(A)\n",
    "    # A is the list of activities, each activity is a tuple (start_time, end_time)\n",
    "    # * Sort A by end_time in ascending order\n",
    "\n",
    "    # * Initialize A1 and A2 as an empty list\n",
    "    # * Initialize end_time1 and end_time2 as -1\n",
    "\n",
    "    # * For each activity in A\n",
    "        # * If activity's start_time > end_time1\n",
    "            # * Add activity to A1\n",
    "            # * Update end_time1 = activity's end_time\n",
    "\n",
    "        # * Else If activity's start_time > end_time2\n",
    "            # * Add activity to A2\n",
    "            # * Update end_time2 = activity's end_time\n",
    "\n",
    "    # * Return the total numbers of activities in A1 and A2\n",
    "# * End Function"
   ]
  },
  {
   "cell_type": "markdown",
   "metadata": {},
   "source": [
    "Q4: This is a classic problem known as stone merging. On a straight-line lay N pile\n",
    "of stones. Each pile has Ai stones. It is stipulated that only two adjacent piles\n",
    "can be merged into a new pile at a time, and the number of stones in the new\n",
    "pile will be recorded as the score of the merger. Develop a solution using\n",
    "dynamic algorithm to calculate the minimum and maximum scores for\n",
    "merging N piles of stones into 1 pile, by competing the function below. You’re\n",
    "required to create no less than 5 inputs to test your solution. [25 points]"
   ]
  },
  {
   "cell_type": "code",
   "execution_count": 96,
   "metadata": {},
   "outputs": [],
   "source": [
    "def StoneMerge(A): \n",
    "    # The values are stored in A[1], A[2] .... A[n].\n",
    "    # And A[0] = 0\n",
    "    n = len(A)\n",
    "    prefix_sum = [0] * (n+1) # It's used here to calculate the total number of stones from pile i to pile j\n",
    "    for i in range(n):\n",
    "        prefix_sum[i+1] = prefix_sum[i] + A[i]\n",
    "\n",
    "    dp_min = [[0]*n for _ in range(n)]\n",
    "    dp_max = [[0]*n for _ in range(n)]\n",
    "\n",
    "    for length in range(2, n+1): # the length start from 2 since a single pile doesn't need to be merged\n",
    "        for i in range(n-length+1):\n",
    "            j = i + length - 1\n",
    "            dp_min[i][j] = min(dp_min[i][k] + dp_min[k+1][j] + prefix_sum[j+1] - prefix_sum[i] for k in range(i, j))\n",
    "            dp_max[i][j] = max(dp_max[i][k] + dp_max[k+1][j] + prefix_sum[j+1] - prefix_sum[i] for k in range(i, j))\n",
    "\n",
    "    return dp_min[0][n-1], dp_max[0][n-1]"
   ]
  },
  {
   "cell_type": "code",
   "execution_count": 97,
   "metadata": {},
   "outputs": [],
   "source": [
    "def test_StoneMerge():\n",
    "    assert StoneMerge([3, 2, 4, 5]) == (28, 34)\n",
    "    assert StoneMerge([3, 2, 4]) == (14, 15)\n",
    "    assert StoneMerge([10, 5, 1, 2]) == (29, 49)\n",
    "    assert StoneMerge([1, 1, 1, 1]) == (8, 9)\n",
    "    assert StoneMerge([5]) == (0, 0)\n",
    "\n",
    "test_StoneMerge()"
   ]
  }
 ],
 "metadata": {
  "kernelspec": {
   "display_name": "Python 3",
   "language": "python",
   "name": "python3"
  },
  "language_info": {
   "codemirror_mode": {
    "name": "ipython",
    "version": 3
   },
   "file_extension": ".py",
   "mimetype": "text/x-python",
   "name": "python",
   "nbconvert_exporter": "python",
   "pygments_lexer": "ipython3",
   "version": "3.11.9"
  }
 },
 "nbformat": 4,
 "nbformat_minor": 2
}
