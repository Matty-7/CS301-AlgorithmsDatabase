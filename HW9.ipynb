{
 "cells": [
  {
   "cell_type": "markdown",
   "metadata": {},
   "source": [
    "# HW7"
   ]
  },
  {
   "cell_type": "markdown",
   "metadata": {},
   "source": [
    "### Jingheng Huan\n",
    "jh730"
   ]
  },
  {
   "cell_type": "markdown",
   "metadata": {},
   "source": [
    "Consider having a last-minute exam in a classroom where all the students sit\n",
    "on the very front line, next to each other. Since none of the students studied\n",
    "the course, all cheats to pass the exam. Some of the students cheat better\n",
    "than others, denoted by their cheating index: Ci of student i. The course\n",
    "teacher needs to identify the students who cheat one by one. Whenever s/he\n",
    "catches one student while cheating, s/he takes the student outside of the\n",
    "classroom and gets the success score of (Ci · Ci,left · Ci,right). Ci,left and Ci,right are\n",
    "the cheating indexes of the students sitting right next to student i, on the left\n",
    "and right, respectively. If there are no students on the left, Ci,left is ignored, i.e.\n",
    "the success score is (Ci · Ci,right). The same case is valid for Ci,right, i.e. the\n",
    "success score is (Ci · Ci,left ). If there is only one student left, then the success\n",
    "score to be collected becomes (Ci). Whenever a student gets caught, all\n",
    "students on the student i’s left shift toward right by one seat so that no\n",
    "intermediate seat is empty. Assuming that all the students are eventually\n",
    "caught."
   ]
  },
  {
   "cell_type": "markdown",
   "metadata": {},
   "source": [
    "a. Develop a dynamic programming-based algorithm, in the form of\n",
    "pseudocode, to maximize the total success score of the teacher. [15\n",
    "points]"
   ]
  },
  {
   "cell_type": "markdown",
   "metadata": {},
   "source": [
    "b. Analyze the performance of the algorithm with asymptotic analysis. [5\n",
    "points]"
   ]
  },
  {
   "cell_type": "code",
   "execution_count": null,
   "metadata": {},
   "outputs": [],
   "source": [
    "# (a)\n",
    "\n",
    "# Function MaximizeScore(C)\n",
    "    # C is the list of cheating indices for the students\n",
    "    # Get the number of students n\n",
    "    # * n = length(C)\n",
    "\n",
    "    # Initialize a 2D DP table with size n x n\n",
    "    # * Initialize DP with dimensions [n][n] to all 0\n",
    "\n",
    "    # * For length from 0 to n - 1\n",
    "    # length represents the size of the subsequence of students we are considering\n",
    "    # i and j are the starting and ending indices of the subsequence in the list of C\n",
    "        # * For i from 0 to n - length - 1\n",
    "            # * j = i + length\n",
    "\n",
    "            # * If i + 1 <= j Then\n",
    "                # * left_score = C[i] * C[i+1]\n",
    "            # * Else\n",
    "                # * left_score = C[i]\n",
    "            # * End If\n",
    "\n",
    "            # * If j - 1 >= i Then\n",
    "                # * right_score = C[j] * C[j-1]\n",
    "            # * Else\n",
    "                # * right_score = C[j]\n",
    "            # * End If\n",
    "\n",
    "            # * If i + 1 <= j Then\n",
    "                # * score_if_left_chosen = left_score + DP[i+1][j]\n",
    "            # * Else\n",
    "                # * score_if_left_chosen = left_score\n",
    "            # * End If\n",
    "\n",
    "            # * If j - 1 >= i Then\n",
    "                # * score_if_right_chosen = right_score + DP[i][j-1]\n",
    "            # * Else\n",
    "                # * score_if_right_chosen = right_score\n",
    "            # * End If\n",
    "\n",
    "            # * DP[i][j] = max(score_if_left_chosen, score_if_right_chosen)\n",
    "\n",
    "        # * Next i\n",
    "    # * Next length\n",
    "\n",
    "    # * Return DP[0][n-1]\n",
    "# * End Function"
   ]
  },
  {
   "cell_type": "markdown",
   "metadata": {},
   "source": [
    "## (b) Asymptotic Analysis"
   ]
  }
 ],
 "metadata": {
  "language_info": {
   "name": "python"
  }
 },
 "nbformat": 4,
 "nbformat_minor": 2
}
