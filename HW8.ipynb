{
 "cells": [
  {
   "cell_type": "markdown",
   "metadata": {},
   "source": [
    "Complete the code below calculate the size of the subtree of the node, which is the sum of left child’s size and right child’s size and itself. [ 3 points]"
   ]
  },
  {
   "cell_type": "code",
   "execution_count": null,
   "metadata": {},
   "outputs": [],
   "source": [
    "BLACK='B'\n",
    "RED='R'\n",
    "nil = None\n",
    "\n",
    "def getColor(n):\n",
    "    return BLACK if n is nil else n.color\n",
    "\n",
    "def getSize(n):\n",
    "    return 0 if n is nil else n.size\n",
    "\n",
    "def is_nil(node):\n",
    "    return node == nil\n",
    "\n",
    "class RB_Node:\n",
    "    def __init__(self, key):\n",
    "        self.left = nil # left child of node\n",
    "        self.right = nil # right child of node\n",
    "        self.p = nil # parent of node\n",
    "        self.color = RED # color of node\n",
    "        self.key = key # key of node\n",
    "        self.size = 1 # size of the subtree of the node\n",
    "\n",
    "    # Complete this method to calculate the size of the subtree for the node\n",
    "    def sizeOf(self):\n",
    "        left_size = self.left.size if self.left != nil else 0\n",
    "        right_size = self.right.size if self.right != nil else 0\n",
    "        return left_size + right_size + 1"
   ]
  },
  {
   "cell_type": "markdown",
   "metadata": {},
   "source": [
    "Then here is the general framework for RB-Tree. \n",
    "\n",
    "You need to complete the function “TREE_INSERT” as insert an argument into the tree the same as\n",
    "normal binary search tree. \n",
    "\n",
    "After that, you also need to initialize the new inserted node at the end of this function. [6 points]\n",
    "\n",
    "To maintain the properties of RB-Tree, we need to implement the 2 rotation operations. \n",
    "\n",
    "Do not forget to maintain the ‘size’ of nodes after rotation."
   ]
  },
  {
   "cell_type": "code",
   "execution_count": null,
   "metadata": {},
   "outputs": [],
   "source": [
    "class RB_Tree:\n",
    "    def __init__(self):\n",
    "        self.root = nil\n",
    "        pass\n",
    "\n",
    "    def RB_INSERT(self, z):\n",
    "        self.TREE_INSERT(z)\n",
    "        self.RB_INSERT_FIX(z)\n",
    "        pass\n",
    "\n",
    "    # Compete the method to insert RB_node z into the tree.\n",
    "    # the process is the same as BST INSERT one.\n",
    "    # you can choose to use iteration or recursion.\n",
    "    def TREE_INSERT(self, z):\n",
    "        y = nil\n",
    "        x = self.root\n",
    "        while x != nil:\n",
    "            y = x\n",
    "            if z.key < x.key:\n",
    "                x = x.left\n",
    "            else:\n",
    "                x = x.right\n",
    "        z.p = y\n",
    "        if y == nil:\n",
    "            self.root = z # tree T was empty\n",
    "        elif z.key < y.key:\n",
    "            y.left = z\n",
    "        else:\n",
    "            y.right = z\n",
    "\n",
    "    def LEFT_ROTATE(self, x):\n",
    "        # x is the right child of its parent.\n",
    "        # now you need to do the ‘rotate’ operation\n",
    "\n",
    "    def RIGHT_ROTATE(self, x):\n",
    "        # x is the left child of its parent.\n",
    "        # now you need to do the ‘rotate’ operation"
   ]
  }
 ],
 "metadata": {
  "language_info": {
   "name": "python"
  }
 },
 "nbformat": 4,
 "nbformat_minor": 2
}
