{
 "cells": [
  {
   "cell_type": "markdown",
   "metadata": {},
   "source": [
    "# HW12"
   ]
  },
  {
   "cell_type": "markdown",
   "metadata": {},
   "source": [
    "### Jingheng Huan\n",
    "jh730"
   ]
  },
  {
   "cell_type": "markdown",
   "metadata": {},
   "source": [
    "Q1: Referring to the relation schema below, write an SQL query denoting\n",
    "the distinct student pairs who took 2 or more same courses. The query should\n",
    "return student IDs. An example result entry could be the students with student ID\n",
    "= 3 and student ID = 7, who took COMPSCI 201, COMPSCI 203, and COMPSCI 301.\n",
    "Exam_Scores(student_ID, course_ID, score)"
   ]
  },
  {
   "cell_type": "code",
   "execution_count": null,
   "metadata": {
    "vscode": {
     "languageId": "sql"
    }
   },
   "outputs": [],
   "source": [
    "SELECT E1.student_ID AS student1, E2.student_ID AS student2\n",
    "FROM Exam_Scores E1\n",
    "JOIN EXAM_Scores E2 ON E1.course_ID = E2.course_ID\n",
    "WHERE E1.student_ID < E2.student_ID\n",
    "GROUP BY E1.student_ID, E2.student_ID\n",
    "HAVING COUNT(*) >= 2;"
   ]
  }
 ],
 "metadata": {
  "kernelspec": {
   "display_name": "Python 3",
   "language": "python",
   "name": "python3"
  },
  "language_info": {
   "codemirror_mode": {
    "name": "ipython",
    "version": 3
   },
   "file_extension": ".py",
   "mimetype": "text/x-python",
   "name": "python",
   "nbconvert_exporter": "python",
   "pygments_lexer": "ipython3",
   "version": "3.11.9"
  }
 },
 "nbformat": 4,
 "nbformat_minor": 2
}
