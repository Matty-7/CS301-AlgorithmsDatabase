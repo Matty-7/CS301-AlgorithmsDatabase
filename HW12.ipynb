{
 "cells": [
  {
   "cell_type": "markdown",
   "metadata": {},
   "source": [
    "# HW12"
   ]
  },
  {
   "cell_type": "markdown",
   "metadata": {},
   "source": [
    "### Jingheng Huan\n",
    "jh730"
   ]
  },
  {
   "cell_type": "markdown",
   "metadata": {},
   "source": [
    "Q1: Referring to the relation schema below, write an SQL query denoting\n",
    "the distinct student pairs who took 2 or more same courses. The query should\n",
    "return student IDs. An example result entry could be the students with student ID\n",
    "= 3 and student ID = 7, who took COMPSCI 201, COMPSCI 203, and COMPSCI 301.\n",
    "Exam_Scores(student_ID, course_ID, score)"
   ]
  },
  {
   "cell_type": "code",
   "execution_count": null,
   "metadata": {
    "vscode": {
     "languageId": "sql"
    }
   },
   "outputs": [],
   "source": [
    "SELECT E1.student_ID AS student1, E2.student_ID AS student2\n",
    "FROM Exam_Scores E1\n",
    "JOIN EXAM_Scores E2 ON E1.course_ID = E2.course_ID\n",
    "WHERE E1.student_ID < E2.student_ID\n",
    "GROUP BY E1.student_ID, E2.student_ID\n",
    "HAVING COUNT(*) >= 2;"
   ]
  },
  {
   "cell_type": "markdown",
   "metadata": {},
   "source": [
    "Q2: Considering the following database schema, write an SQL query listing\n",
    "the names and IDs of the students who do not currently take any courses.\n",
    "Students (student_ID, name, class_year)\n",
    "Instructors (instructor_ID, name)\n",
    "Courses (course_ID, name, instructor_ID)\n",
    "Enrollment (student_ID, course_ID)"
   ]
  },
  {
   "cell_type": "code",
   "execution_count": null,
   "metadata": {
    "vscode": {
     "languageId": "sql"
    }
   },
   "outputs": [],
   "source": [
    "SELECT S.student_ID, S.name\n",
    "FROM Students S\n",
    "WHERE S.student_ID NOT IN (\n",
    "    SELECT E.student_ID\n",
    "    FROM Enrollment E\n",
    ");"
   ]
  },
  {
   "cell_type": "markdown",
   "metadata": {},
   "source": [
    "Q3: Using the same database schema from the previous question, provide\n",
    "an SQL query that shows the names and IDs of the students who take all the open\n",
    "courses."
   ]
  },
  {
   "cell_type": "code",
   "execution_count": null,
   "metadata": {
    "vscode": {
     "languageId": "sql"
    }
   },
   "outputs": [],
   "source": [
    "SELECT S.student_ID, S.name\n",
    "FROM Students S\n",
    "WHERE (\n",
    "    SELECT COUNT(*)\n",
    "    FROM Courses\n",
    ") = (\n",
    "    SELECT COUNT(*)\n",
    "    FROM Enrollment E\n",
    "    WHERE S.student_ID = E.student_ID\n",
    ");"
   ]
  },
  {
   "cell_type": "markdown",
   "metadata": {},
   "source": [
    "Q4: Following the database schema given below, provide an SQL query\n",
    "listing the department names and campuses, teaching ’COMPSCI 301’ as a\n",
    "course_ID, allowing at least 10 students to enroll. The results should be sorted with\n",
    "respect to campus in alphabetical order.\n",
    "class (course_ID, department_ID, student_quota)\n",
    "course (course_ID, course_name, course_type, credit)\n",
    "department (department_ID, department_name, campus)\n",
    "where course\n",
    "_type denotes a category among Disciplinary (D), Interdisciplinary\n",
    "(ID), and Elective (E)."
   ]
  },
  {
   "cell_type": "code",
   "execution_count": null,
   "metadata": {
    "vscode": {
     "languageId": "sql"
    }
   },
   "outputs": [],
   "source": [
    "SELECT department_name, campus\n",
    "FROM department\n",
    "WHERE department_ID IN (\n",
    "    SELECT department_ID\n",
    "    FROM class\n",
    "    WHERE course_ID = 'COMPSCI 301' AND student_quota >= 10\n",
    ")\n",
    "ORDER BY campus;"
   ]
  },
  {
   "cell_type": "markdown",
   "metadata": {},
   "source": [
    "Q5: On the database schema given in the previous question, offer an SQL\n",
    "query that returns the department names alongside the total number of course\n",
    "credits offered."
   ]
  },
  {
   "cell_type": "code",
   "execution_count": null,
   "metadata": {
    "vscode": {
     "languageId": "sql"
    }
   },
   "outputs": [],
   "source": [
    "SELECT department_name,\n",
    "        (SELECT SUM(credit)\n",
    "        FROM class\n",
    "        JOIN course ON class.course_ID = course.course_ID\n",
    "        WHERE class.department_ID = department.department_ID) AS total_credits\n",
    "FROM department;"
   ]
  }
 ],
 "metadata": {
  "kernelspec": {
   "display_name": "Python 3",
   "language": "python",
   "name": "python3"
  },
  "language_info": {
   "codemirror_mode": {
    "name": "ipython",
    "version": 3
   },
   "file_extension": ".py",
   "mimetype": "text/x-python",
   "name": "python",
   "nbconvert_exporter": "python",
   "pygments_lexer": "ipython3",
   "version": "3.11.9"
  }
 },
 "nbformat": 4,
 "nbformat_minor": 2
}
