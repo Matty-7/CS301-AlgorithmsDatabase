{
 "cells": [
  {
   "cell_type": "markdown",
   "metadata": {},
   "source": [
    "# HW10"
   ]
  },
  {
   "cell_type": "markdown",
   "metadata": {},
   "source": [
    "### Jingheng Huan\n",
    "NetID: jh730"
   ]
  },
  {
   "cell_type": "markdown",
   "metadata": {},
   "source": [
    "Q1: Derive a standard form LP model with two nonnegative decision\n",
    "variables, {x1 ≤ 12, x2 ≤ 16}, for maximizing the following sum: 36x1 + 25x2. A\n",
    "solution is feasible if the sum of the decision variables is at most 20."
   ]
  },
  {
   "cell_type": "markdown",
   "metadata": {},
   "source": [
    "Maximize: Z = 36x<sub>1</sub> + 25x<sub>2</sub>\n",
    "\n",
    "Subject to the constraints:\n",
    "\n",
    "x<sub>1</sub> + x<sub>2</sub> ≤ 20 (The sum of the decision variables is at most 20)\n",
    "\n",
    "x<sub>1</sub> ≤ 12\n",
    "\n",
    "x<sub>2</sub> ≤ 16\n",
    "\n",
    "x<sub>1</sub>, x<sub>2</sub> ≥ 0 (Non-negativity constraints)\n",
    "\n",
    "This is the standard form Linear Programming model for the given problem. The objective is to find the values of x<sub>1</sub> and x<sub>2</sub> that maximize Z, subject to the constraints."
   ]
  },
  {
   "cell_type": "markdown",
   "metadata": {},
   "source": [
    "Q2: Perform the Simplex algorithm to solve the corresponding\n",
    "LP model from the previous question."
   ]
  }
 ],
 "metadata": {
  "language_info": {
   "name": "python"
  }
 },
 "nbformat": 4,
 "nbformat_minor": 2
}
