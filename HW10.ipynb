{
 "cells": [
  {
   "cell_type": "markdown",
   "metadata": {},
   "source": [
    "# HW10"
   ]
  },
  {
   "cell_type": "markdown",
   "metadata": {},
   "source": [
    "### Jingheng Huan\n",
    "NetID: jh730"
   ]
  },
  {
   "cell_type": "markdown",
   "metadata": {},
   "source": [
    "Q1: Derive a standard form LP model with two nonnegative decision\n",
    "variables, {x1 ≤ 12, x2 ≤ 16}, for maximizing the following sum: 36x1 + 25x2. A\n",
    "solution is feasible if the sum of the decision variables is at most 20."
   ]
  },
  {
   "cell_type": "markdown",
   "metadata": {},
   "source": [
    "Maximize: Z = 36x<sub>1</sub> + 25x<sub>2</sub>\n",
    "\n",
    "Subject to the constraints:\n",
    "\n",
    "x<sub>1</sub> + x<sub>2</sub> ≤ 20 (The sum of the decision variables is at most 20)\n",
    "\n",
    "x<sub>1</sub> ≤ 12\n",
    "\n",
    "x<sub>2</sub> ≤ 16\n",
    "\n",
    "x<sub>1</sub>, x<sub>2</sub> ≥ 0 (Non-negativity constraints)\n",
    "\n",
    "This is the standard form Linear Programming model for the given problem. The objective is to find the values of x<sub>1</sub> and x<sub>2</sub> that maximize Z, subject to the constraints."
   ]
  },
  {
   "cell_type": "markdown",
   "metadata": {},
   "source": [
    "Q2: Perform the Simplex algorithm to solve the corresponding\n",
    "LP model from the previous question."
   ]
  },
  {
   "cell_type": "code",
   "execution_count": 2,
   "metadata": {},
   "outputs": [
    {
     "name": "stdout",
     "output_type": "stream",
     "text": [
      "Optimal value: 632.0 \n",
      "x values: [12.  8.]\n"
     ]
    }
   ],
   "source": [
    "from scipy.optimize import linprog\n",
    "\n",
    "# Coefficients of the objective function\n",
    "c = [-36, -25] # We use negative Coefficients because linprog minimizes the objective function\n",
    "\n",
    "# Coefficients of the inequality constraints\n",
    "A = [[1, 1], [1, 0], [0, 1]]\n",
    "\n",
    "# Right hand side of the inequality constraints\n",
    "b = [20, 12, 16]\n",
    "\n",
    "# Bounds for the variables\n",
    "x0_bounds = (0, None)\n",
    "x1_bounds = (0, None)\n",
    "\n",
    "res = linprog(c, A_ub = A, b_ub = b, bounds = [x0_bounds, x1_bounds], method = 'highs')\n",
    "\n",
    "print('Optimal value:', -res.fun, '\\nx values:', res.x)"
   ]
  },
  {
   "cell_type": "markdown",
   "metadata": {},
   "source": [
    "The optimal solution to the linear programming problem is when x<sub>1</sub> = 12, x<sub>2</sub> = 8, and Z = 36(12) + 25(8) = 632."
   ]
  },
  {
   "cell_type": "markdown",
   "metadata": {},
   "source": []
  }
 ],
 "metadata": {
  "kernelspec": {
   "display_name": "Python 3",
   "language": "python",
   "name": "python3"
  },
  "language_info": {
   "codemirror_mode": {
    "name": "ipython",
    "version": 3
   },
   "file_extension": ".py",
   "mimetype": "text/x-python",
   "name": "python",
   "nbconvert_exporter": "python",
   "pygments_lexer": "ipython3",
   "version": "3.11.9"
  }
 },
 "nbformat": 4,
 "nbformat_minor": 2
}
